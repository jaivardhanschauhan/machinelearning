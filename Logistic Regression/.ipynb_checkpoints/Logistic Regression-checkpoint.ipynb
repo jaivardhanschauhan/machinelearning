{
 "cells": [
  {
   "cell_type": "code",
   "execution_count": 1,
   "metadata": {
    "executionInfo": {
     "elapsed": 1762,
     "status": "ok",
     "timestamp": 1705782814277,
     "user": {
      "displayName": "Jaivardhan Singh Chauhan",
      "userId": "12360705570932212157"
     },
     "user_tz": 480
    },
    "id": "GvO4nwqTQpxX"
   },
   "outputs": [],
   "source": [
    "import pandas as pd\n",
    "import statsmodels.api as sm\n",
    "from sklearn.model_selection import train_test_split"
   ]
  },
  {
   "cell_type": "markdown",
   "metadata": {},
   "source": [
    "#### Dataset\n",
    "\n",
    "The dataset 'crash' consists of four variables: PassengerId, Age, Speed, and Survived. Each row represents an individual passenger involved in a crash. The variable PassengerId is a unique identifier for each passenger. Age indicates the age of the passenger in years. Speed represents the speed at which the vehicle was traveling at the time of the crash, measured in miles per hour (mph). The Survived variable is a binary indicator of the survival outcome, where 0 indicates that the passenger did not survive the crash, and 1 indicates that the passenger survived."
   ]
  },
  {
   "cell_type": "code",
   "execution_count": 2,
   "metadata": {
    "colab": {
     "base_uri": "https://localhost:8080/",
     "height": 677
    },
    "executionInfo": {
     "elapsed": 159,
     "status": "ok",
     "timestamp": 1705782815599,
     "user": {
      "displayName": "Jaivardhan Singh Chauhan",
      "userId": "12360705570932212157"
     },
     "user_tz": 480
    },
    "id": "t-gXoeduJDrT",
    "outputId": "02b6375e-5f67-41f8-dd06-a7ac672c5187"
   },
   "outputs": [
    {
     "name": "stdout",
     "output_type": "stream",
     "text": [
      "(20, 4)\n"
     ]
    },
    {
     "data": {
      "text/html": [
       "<div>\n",
       "<style scoped>\n",
       "    .dataframe tbody tr th:only-of-type {\n",
       "        vertical-align: middle;\n",
       "    }\n",
       "\n",
       "    .dataframe tbody tr th {\n",
       "        vertical-align: top;\n",
       "    }\n",
       "\n",
       "    .dataframe thead th {\n",
       "        text-align: right;\n",
       "    }\n",
       "</style>\n",
       "<table border=\"1\" class=\"dataframe\">\n",
       "  <thead>\n",
       "    <tr style=\"text-align: right;\">\n",
       "      <th></th>\n",
       "      <th>PassengerId</th>\n",
       "      <th>Age</th>\n",
       "      <th>Speed</th>\n",
       "      <th>Survived</th>\n",
       "    </tr>\n",
       "  </thead>\n",
       "  <tbody>\n",
       "    <tr>\n",
       "      <th>0</th>\n",
       "      <td>1</td>\n",
       "      <td>22</td>\n",
       "      <td>65</td>\n",
       "      <td>0</td>\n",
       "    </tr>\n",
       "    <tr>\n",
       "      <th>1</th>\n",
       "      <td>2</td>\n",
       "      <td>38</td>\n",
       "      <td>50</td>\n",
       "      <td>1</td>\n",
       "    </tr>\n",
       "    <tr>\n",
       "      <th>2</th>\n",
       "      <td>3</td>\n",
       "      <td>26</td>\n",
       "      <td>45</td>\n",
       "      <td>1</td>\n",
       "    </tr>\n",
       "    <tr>\n",
       "      <th>3</th>\n",
       "      <td>4</td>\n",
       "      <td>35</td>\n",
       "      <td>55</td>\n",
       "      <td>1</td>\n",
       "    </tr>\n",
       "    <tr>\n",
       "      <th>4</th>\n",
       "      <td>5</td>\n",
       "      <td>35</td>\n",
       "      <td>85</td>\n",
       "      <td>0</td>\n",
       "    </tr>\n",
       "  </tbody>\n",
       "</table>\n",
       "</div>"
      ],
      "text/plain": [
       "   PassengerId  Age  Speed  Survived\n",
       "0            1   22     65         0\n",
       "1            2   38     50         1\n",
       "2            3   26     45         1\n",
       "3            4   35     55         1\n",
       "4            5   35     85         0"
      ]
     },
     "execution_count": 2,
     "metadata": {},
     "output_type": "execute_result"
    }
   ],
   "source": [
    "df = pd.read_csv('crash.csv')\n",
    "print(df.shape)\n",
    "df.head()"
   ]
  },
  {
   "cell_type": "code",
   "execution_count": 3,
   "metadata": {
    "executionInfo": {
     "elapsed": 140,
     "status": "ok",
     "timestamp": 1705782838057,
     "user": {
      "displayName": "Jaivardhan Singh Chauhan",
      "userId": "12360705570932212157"
     },
     "user_tz": 480
    },
    "id": "NJc4Hk9AJQvq"
   },
   "outputs": [],
   "source": [
    "# Using Age and Speed as our predictors\n",
    "\n",
    "X = df[['Age','Speed']]\n",
    "y = df['Survived']\n",
    "X_train, X_test, y_train, y_test = train_test_split(X, y, test_size=0.3)"
   ]
  },
  {
   "cell_type": "code",
   "execution_count": 4,
   "metadata": {
    "colab": {
     "base_uri": "https://localhost:8080/"
    },
    "executionInfo": {
     "elapsed": 175,
     "status": "ok",
     "timestamp": 1705782841797,
     "user": {
      "displayName": "Jaivardhan Singh Chauhan",
      "userId": "12360705570932212157"
     },
     "user_tz": 480
    },
    "id": "sHCzTdOvJiRC",
    "outputId": "9ef536ed-b918-454b-ef7c-9962de2e0ad2"
   },
   "outputs": [
    {
     "name": "stdout",
     "output_type": "stream",
     "text": [
      "Optimization terminated successfully.\n",
      "         Current function value: 0.302616\n",
      "         Iterations 9\n",
      "                           Logit Regression Results                           \n",
      "==============================================================================\n",
      "Dep. Variable:               Survived   No. Observations:                   14\n",
      "Model:                          Logit   Df Residuals:                       11\n",
      "Method:                           MLE   Df Model:                            2\n",
      "Date:                Wed, 12 Jun 2024   Pseudo R-squ.:                  0.5569\n",
      "Time:                        16:01:54   Log-Likelihood:                -4.2366\n",
      "converged:                       True   LL-Null:                       -9.5607\n",
      "Covariance Type:            nonrobust   LLR p-value:                  0.004873\n",
      "==============================================================================\n",
      "                 coef    std err          z      P>|z|      [0.025      0.975]\n",
      "------------------------------------------------------------------------------\n",
      "const         13.7786      8.751      1.574      0.115      -3.373      30.931\n",
      "Age           -0.0063      0.059     -0.106      0.915      -0.122       0.109\n",
      "Speed         -0.2101      0.139     -1.517      0.129      -0.482       0.061\n",
      "==============================================================================\n"
     ]
    }
   ],
   "source": [
    "logmodel = sm.Logit(y_train, sm.add_constant(X_train)).fit(disp=True)\n",
    "print(logmodel.summary())"
   ]
  },
  {
   "cell_type": "markdown",
   "metadata": {},
   "source": [
    "<div style=\"text-align: center;\">\n",
    "    <img src=\"sigmoid.png\" alt=\"Sigmoid\" width=\"300\"/>\n",
    "    <img src=\"logodds.png\" alt=\"Log Odds\" width=\"300\"/>\n",
    "    <img src=\"percentage.png\" alt=\"Percentage\" width=\"300\"/>\n",
    "</div>"
   ]
  },
  {
   "cell_type": "markdown",
   "metadata": {},
   "source": [
    "The first equation gives the probability p of the binary outcome or surviving, given the predictors (Age and Speed). This probability p is the core output of the logistic regression model. \n",
    "\n",
    "The second equation models the log-odds of the binary outcome occurring as a linear combination of the predictors. This linear relationship simplifies the interpretation of their effects on the outcome in terms of odds rather than probabilities. \n",
    "\n",
    "Lastly, the third equation translates the coefficients into percentage changes in odds, making it easier to interpret the practical significance of each predictor."
   ]
  },
  {
   "cell_type": "markdown",
   "metadata": {},
   "source": [
    "Both Age and Speed have high p-values, indicating that neither of these variables is a statistically significant predictor of survival at the 5% level. It suggests that other factors might be more important in determining survival. However, the model as a whole is statistically significant, as indicated by the LLR p-value.\n",
    "\n",
    "1. An increase in Age by one unit decreases the odds of survival by a factor of 0.9937 (e−0.0063). It means that the odds of survival decrease by approximately 0.63%. \n",
    "\n",
    "2. An increase in Speed by one unit decreases the odds of survival by a factor of 0.8104 (e−0.2101). It means that the odds of survival decrease by approximately 18.96%.\n",
    "\n",
    "The pseudo R-squared value of 0.5569 suggests that the model explains about 55.69% of the variability in the dependent variable. This value indicates that we have a reasonable fit, but there might be room for improvement."
   ]
  },
  {
   "cell_type": "code",
   "execution_count": 12,
   "metadata": {
    "id": "YRGYts9-KIDq"
   },
   "outputs": [],
   "source": [
    "predictions = logmodel.predict(sm.add_constant(X_test))\n",
    "class_prediction = [1 if x>=0.5 else 0 for x in predictions]"
   ]
  },
  {
   "cell_type": "code",
   "execution_count": 6,
   "metadata": {
    "colab": {
     "base_uri": "https://localhost:8080/"
    },
    "executionInfo": {
     "elapsed": 211,
     "status": "ok",
     "timestamp": 1705777020933,
     "user": {
      "displayName": "Jaivardhan Singh Chauhan",
      "userId": "12360705570932212157"
     },
     "user_tz": 480
    },
    "id": "0ZFZnv54LDND",
    "outputId": "257004c6-dcc6-4680-d44e-cdbf8a1a9d98"
   },
   "outputs": [
    {
     "data": {
      "text/plain": [
       "13    0.047240\n",
       "16    0.979957\n",
       "8     0.980978\n",
       "11    0.998759\n",
       "7     0.193645\n",
       "18    0.020690\n",
       "dtype: float64"
      ]
     },
     "execution_count": 6,
     "metadata": {},
     "output_type": "execute_result"
    }
   ],
   "source": [
    "predictions"
   ]
  },
  {
   "cell_type": "code",
   "execution_count": 7,
   "metadata": {
    "colab": {
     "base_uri": "https://localhost:8080/"
    },
    "executionInfo": {
     "elapsed": 148,
     "status": "ok",
     "timestamp": 1705777024346,
     "user": {
      "displayName": "Jaivardhan Singh Chauhan",
      "userId": "12360705570932212157"
     },
     "user_tz": 480
    },
    "id": "nSok_NcLLEg6",
    "outputId": "9b36fb54-e58b-4543-fca8-05b756df7ad9"
   },
   "outputs": [
    {
     "data": {
      "text/plain": [
       "[0, 1, 1, 1, 0, 0]"
      ]
     },
     "execution_count": 7,
     "metadata": {},
     "output_type": "execute_result"
    }
   ],
   "source": [
    "class_prediction"
   ]
  },
  {
   "cell_type": "code",
   "execution_count": 8,
   "metadata": {
    "colab": {
     "base_uri": "https://localhost:8080/"
    },
    "executionInfo": {
     "elapsed": 143,
     "status": "ok",
     "timestamp": 1705777026907,
     "user": {
      "displayName": "Jaivardhan Singh Chauhan",
      "userId": "12360705570932212157"
     },
     "user_tz": 480
    },
    "id": "iu-I-UH4Lzsa",
    "outputId": "6acd1ca0-0f4f-4dda-b999-939c0d2f406f"
   },
   "outputs": [
    {
     "name": "stdout",
     "output_type": "stream",
     "text": [
      "0.8333333333333334\n",
      "[[3 1]\n",
      " [0 2]]\n"
     ]
    }
   ],
   "source": [
    "from sklearn.metrics import accuracy_score, confusion_matrix\n",
    "print(accuracy_score(y_test, class_prediction))\n",
    "print(confusion_matrix(y_test, class_prediction))"
   ]
  },
  {
   "cell_type": "markdown",
   "metadata": {},
   "source": [
    "Overall, accuracy on test set is 83.33%, which is reasonable. However, our model shows one false positive."
   ]
  },
  {
   "cell_type": "code",
   "execution_count": 9,
   "metadata": {
    "id": "cgvTUm9fNgjT"
   },
   "outputs": [],
   "source": [
    "import matplotlib.pyplot as plt\n",
    "from sklearn.metrics import roc_curve, roc_auc_score"
   ]
  },
  {
   "cell_type": "code",
   "execution_count": 10,
   "metadata": {
    "id": "hIom0oOOOQ-R"
   },
   "outputs": [],
   "source": [
    "fpr, tpr, thresholds = roc_curve(y_test, predictions)\n",
    "roc_auc = roc_auc_score(y_test, predictions)"
   ]
  },
  {
   "cell_type": "code",
   "execution_count": 11,
   "metadata": {
    "colab": {
     "base_uri": "https://localhost:8080/",
     "height": 490
    },
    "executionInfo": {
     "elapsed": 609,
     "status": "ok",
     "timestamp": 1705777033399,
     "user": {
      "displayName": "Jaivardhan Singh Chauhan",
      "userId": "12360705570932212157"
     },
     "user_tz": 480
    },
    "id": "mnUyKmBYOqiU",
    "outputId": "03d0012a-3166-41ab-c7de-b0fbab65cda2"
   },
   "outputs": [
    {
     "data": {
      "text/plain": [
       "Text(0, 0.5, 'TP rate')"
      ]
     },
     "execution_count": 11,
     "metadata": {},
     "output_type": "execute_result"
    },
    {
     "data": {
      "image/png": "[encoded data removed]",
      "text/plain": [
       "<Figure size 432x288 with 1 Axes>"
      ]
     },
     "metadata": {
      "needs_background": "light"
     },
     "output_type": "display_data"
    }
   ],
   "source": [
    "plt.plot(fpr, tpr, label='ROC Curve (area = %0.3f)' %roc_auc)\n",
    "plt.title('ROC curve (area = %0.3f)' %roc_auc)\n",
    "plt.xlabel('FP rate')\n",
    "plt.ylabel('TP rate')"
   ]
  },
  {
   "cell_type": "markdown",
   "metadata": {
    "id": "d3bYewsFO-sR"
   },
   "source": [
    "The model identified 100% of the actual positive cases. The model correctly identified 75% of the actual negative cases."
   ]
  },
  {
   "cell_type": "markdown",
   "metadata": {},
   "source": [
    "Recall = TP/(TP + FN) = 2/2 = 1"
   ]
  },
  {
   "cell_type": "markdown",
   "metadata": {},
   "source": [
    "The high recall (1.0) indicates the model is very effective at identifying positive instances without missing any.\n",
    "Precision (0.667) is lower, indicating that among the positive predictions, some were incorrect."
   ]
  }
 ],
 "metadata": {
  "colab": {
   "provenance": [
    {
     "file_id": "1dHaLBbjjZGjvAUZXWFeRrXlNTW2t9XGE",
     "timestamp": 1705776907944
    }
   ]
  },
  "kernelspec": {
   "display_name": "Python 3 (ipykernel)",
   "language": "python",
   "name": "python3"
  },
  "language_info": {
   "codemirror_mode": {
    "name": "ipython",
    "version": 3
   },
   "file_extension": ".py",
   "mimetype": "text/x-python",
   "name": "python",
   "nbconvert_exporter": "python",
   "pygments_lexer": "ipython3",
   "version": "3.9.19"
  }
 },
 "nbformat": 4,
 "nbformat_minor": 1
}
