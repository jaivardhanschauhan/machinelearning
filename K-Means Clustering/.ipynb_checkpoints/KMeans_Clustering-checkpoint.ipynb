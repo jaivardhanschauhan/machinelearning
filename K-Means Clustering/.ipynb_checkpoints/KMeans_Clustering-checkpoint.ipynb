{
 "cells": [
  {
   "cell_type": "code",
   "execution_count": 1,
   "metadata": {
    "executionInfo": {
     "elapsed": 167,
     "status": "ok",
     "timestamp": 1707326722927,
     "user": {
      "displayName": "Jaivardhan Singh Chauhan",
      "userId": "12360705570932212157"
     },
     "user_tz": 480
    },
    "id": "EZS68QH3H0xt"
   },
   "outputs": [],
   "source": [
    "import pandas as pd\n",
    "import matplotlib.pyplot as plt\n",
    "from sklearn.cluster import KMeans"
   ]
  },
  {
   "cell_type": "markdown",
   "metadata": {},
   "source": [
    "The Iris dataset contains 150 samples of iris flowers, with each sample described by four features:\n",
    "\n",
    "1. Sepal Length: The length of the sepal in centimeters.\n",
    "2. Sepal Width: The width of the sepal in centimeters.\n",
    "3. Petal Length: The length of the petal in centimeters.\n",
    "4. Petal Width: The width of the petal in centimeters.\n",
    "\n",
    "Additionally, each sample is classified into one of three species of iris flowers:Iris Setosa, Iris Versicolor or Iris Virginica"
   ]
  },
  {
   "cell_type": "code",
   "execution_count": 5,
   "metadata": {
    "colab": {
     "base_uri": "https://localhost:8080/",
     "height": 424
    },
    "executionInfo": {
     "elapsed": 584,
     "status": "ok",
     "timestamp": 1707326723690,
     "user": {
      "displayName": "Jaivardhan Singh Chauhan",
      "userId": "12360705570932212157"
     },
     "user_tz": 480
    },
    "id": "f2-9ni8sOaoB",
    "outputId": "1caa2453-0965-410c-a1ae-e3f9970cd64b"
   },
   "outputs": [
    {
     "data": {
      "text/html": [
       "<div>\n",
       "<style scoped>\n",
       "    .dataframe tbody tr th:only-of-type {\n",
       "        vertical-align: middle;\n",
       "    }\n",
       "\n",
       "    .dataframe tbody tr th {\n",
       "        vertical-align: top;\n",
       "    }\n",
       "\n",
       "    .dataframe thead th {\n",
       "        text-align: right;\n",
       "    }\n",
       "</style>\n",
       "<table border=\"1\" class=\"dataframe\">\n",
       "  <thead>\n",
       "    <tr style=\"text-align: right;\">\n",
       "      <th></th>\n",
       "      <th>sepal_length</th>\n",
       "      <th>sepal_width</th>\n",
       "      <th>petal_length</th>\n",
       "      <th>petal_width</th>\n",
       "      <th>species</th>\n",
       "    </tr>\n",
       "  </thead>\n",
       "  <tbody>\n",
       "    <tr>\n",
       "      <th>0</th>\n",
       "      <td>5.1</td>\n",
       "      <td>3.5</td>\n",
       "      <td>1.4</td>\n",
       "      <td>0.2</td>\n",
       "      <td>setosa</td>\n",
       "    </tr>\n",
       "    <tr>\n",
       "      <th>1</th>\n",
       "      <td>4.9</td>\n",
       "      <td>3.0</td>\n",
       "      <td>1.4</td>\n",
       "      <td>0.2</td>\n",
       "      <td>setosa</td>\n",
       "    </tr>\n",
       "    <tr>\n",
       "      <th>2</th>\n",
       "      <td>4.7</td>\n",
       "      <td>3.2</td>\n",
       "      <td>1.3</td>\n",
       "      <td>0.2</td>\n",
       "      <td>setosa</td>\n",
       "    </tr>\n",
       "    <tr>\n",
       "      <th>3</th>\n",
       "      <td>4.6</td>\n",
       "      <td>3.1</td>\n",
       "      <td>1.5</td>\n",
       "      <td>0.2</td>\n",
       "      <td>setosa</td>\n",
       "    </tr>\n",
       "    <tr>\n",
       "      <th>4</th>\n",
       "      <td>5.0</td>\n",
       "      <td>3.6</td>\n",
       "      <td>1.4</td>\n",
       "      <td>0.2</td>\n",
       "      <td>setosa</td>\n",
       "    </tr>\n",
       "  </tbody>\n",
       "</table>\n",
       "</div>"
      ],
      "text/plain": [
       "   sepal_length  sepal_width  petal_length  petal_width species\n",
       "0           5.1          3.5           1.4          0.2  setosa\n",
       "1           4.9          3.0           1.4          0.2  setosa\n",
       "2           4.7          3.2           1.3          0.2  setosa\n",
       "3           4.6          3.1           1.5          0.2  setosa\n",
       "4           5.0          3.6           1.4          0.2  setosa"
      ]
     },
     "execution_count": 5,
     "metadata": {},
     "output_type": "execute_result"
    }
   ],
   "source": [
    "df = pd.read_csv('iris.csv')\n",
    "df.head() # Overview"
   ]
  },
  {
   "cell_type": "code",
   "execution_count": 6,
   "metadata": {
    "colab": {
     "base_uri": "https://localhost:8080/"
    },
    "executionInfo": {
     "elapsed": 924,
     "status": "ok",
     "timestamp": 1707326724613,
     "user": {
      "displayName": "Jaivardhan Singh Chauhan",
      "userId": "12360705570932212157"
     },
     "user_tz": 480
    },
    "id": "Qp2-9m1PjCdW",
    "outputId": "373c8562-170d-450d-9b23-f9f48319b36c"
   },
   "outputs": [
    {
     "name": "stdout",
     "output_type": "stream",
     "text": [
      "Drive already mounted at /content/drive; to attempt to forcibly remount, call drive.mount(\"/content/drive\", force_remount=True).\n"
     ]
    }
   ],
   "source": [
    "from google.colab import drive\n",
    "drive.mount('/content/drive')"
   ]
  },
  {
   "cell_type": "code",
   "execution_count": 6,
   "metadata": {
    "colab": {
     "base_uri": "https://localhost:8080/",
     "height": 206
    },
    "executionInfo": {
     "elapsed": 8,
     "status": "ok",
     "timestamp": 1707326724614,
     "user": {
      "displayName": "Jaivardhan Singh Chauhan",
      "userId": "12360705570932212157"
     },
     "user_tz": 480
    },
    "id": "lCXq5gt0Oj7t",
    "outputId": "535f0280-c7ba-43eb-8550-0cff4940f59c"
   },
   "outputs": [],
   "source": [
    "X = df.iloc[:,[0,1]]"
   ]
  },
  {
   "cell_type": "code",
   "execution_count": 7,
   "metadata": {
    "colab": {
     "base_uri": "https://localhost:8080/",
     "height": 543
    },
    "executionInfo": {
     "elapsed": 452,
     "status": "ok",
     "timestamp": 1707328673437,
     "user": {
      "displayName": "Jaivardhan Singh Chauhan",
      "userId": "12360705570932212157"
     },
     "user_tz": 480
    },
    "id": "3pGH7PaOO241",
    "outputId": "8a83255b-316e-4dd3-97ec-92bae7065f7f"
   },
   "outputs": [
    {
     "data": {
      "image/png": "[encoded data removed]",
      "text/plain": [
       "<Figure size 432x288 with 1 Axes>"
      ]
     },
     "metadata": {
      "needs_background": "light"
     },
     "output_type": "display_data"
    }
   ],
   "source": [
    "x = df.iloc[:, 0]  # Sepal Length\n",
    "y = df.iloc[:, 1]  # Sepal Width\n",
    "\n",
    "plt.scatter(x, y)\n",
    "plt.xlabel('Sepal Length (cm)')\n",
    "plt.ylabel('Sepal Width (cm)')\n",
    "plt.title('Scatter Plot of Sepal Dimensions')\n",
    "plt.show()"
   ]
  },
  {
   "cell_type": "markdown",
   "metadata": {},
   "source": [
    "Each point on the scatter plot corresponds to a single sample in the dataset. The position of each point is determined by the sepal_length (x-coordinate) and sepal_width (y-coordinate) of that sample. \n",
    "\n",
    "1. Here, we visually inspect the data points to see if there are any natural groupings or clusters. This can give us an idea of the number of clusters to use in K-means clustering.\n",
    "\n",
    "2. It may also be used to identify any outliers before clustering.\n",
    "\n",
    "Lastly, the scatter plot shows the distribution of the data points in the feature space. This distribution helps in understanding how the features (sepal length and sepal width) vary and interact with each other."
   ]
  },
  {
   "cell_type": "code",
   "execution_count": 8,
   "metadata": {
    "executionInfo": {
     "elapsed": 4,
     "status": "ok",
     "timestamp": 1707326725175,
     "user": {
      "displayName": "Jaivardhan Singh Chauhan",
      "userId": "12360705570932212157"
     },
     "user_tz": 480
    },
    "id": "yaovab_ZPCGN"
   },
   "outputs": [],
   "source": [
    "kmeans = KMeans(n_clusters=3) # Initialization "
   ]
  },
  {
   "cell_type": "code",
   "execution_count": 9,
   "metadata": {
    "colab": {
     "base_uri": "https://localhost:8080/"
    },
    "executionInfo": {
     "elapsed": 4,
     "status": "ok",
     "timestamp": 1707326725175,
     "user": {
      "displayName": "Jaivardhan Singh Chauhan",
      "userId": "12360705570932212157"
     },
     "user_tz": 480
    },
    "id": "PJqMmRcqPPmk",
    "outputId": "c91b00d9-738b-48f8-8674-9ee1f10b6bf3"
   },
   "outputs": [],
   "source": [
    "# Predict the clusters\n",
    "y_means = kmeans.fit_predict(X)\n",
    "centroids = kmeans.cluster_centers_"
   ]
  },
  {
   "cell_type": "markdown",
   "metadata": {},
   "source": [
    "Above, we are essentially perfoming the given steps:\n",
    "\n",
    "1. Random Initialization: The algorithm starts by randomly selecting initial positions for the centroids.\n",
    "\n",
    "2. Assignment Step: Each data point is assigned to the nearest centroid, forming initial clusters.\n",
    "\n",
    "3. Update Step: The centroids are recalculated as the mean of the data points assigned to each cluster.\n",
    "\n",
    "Repeat Until Convergence: Steps 2 and 3 are repeated until the centroids no longer change significantly or the algorithm reaches a maximum number of iterations (by default 300 in sklearn). The process ensures the algorithm has converged to a stable solution."
   ]
  },
  {
   "cell_type": "code",
   "execution_count": 15,
   "metadata": {
    "colab": {
     "base_uri": "https://localhost:8080/",
     "height": 451
    },
    "executionInfo": {
     "elapsed": 319,
     "status": "ok",
     "timestamp": 1707326725491,
     "user": {
      "displayName": "Jaivardhan Singh Chauhan",
      "userId": "12360705570932212157"
     },
     "user_tz": 480
    },
    "id": "Y1TTA7DLPb2s",
    "outputId": "309369cf-b78b-4403-ef3f-efeb674ff5bd"
   },
   "outputs": [
    {
     "data": {
      "text/plain": [
       "Text(0.5, 1.0, 'K-means Clustering of Sepal Dimensions')"
      ]
     },
     "execution_count": 15,
     "metadata": {},
     "output_type": "execute_result"
    },
    {
     "data": {
      "image/png": "[encoded data removed]",
      "text/plain": [
       "<Figure size 864x576 with 1 Axes>"
      ]
     },
     "metadata": {
      "needs_background": "light"
     },
     "output_type": "display_data"
    }
   ],
   "source": [
    "# Plot the clusters\n",
    "plt.figure(figsize=(12, 8)) \n",
    "plt.scatter(X.iloc[:,0],X.iloc[:,1],c=kmeans.labels_,cmap='brg') \n",
    "\n",
    "# Plot the centroids\n",
    "plt.scatter(kmeans.cluster_centers_[:,0],kmeans.cluster_centers_[:,1], s=200, c='black')\n",
    "\n",
    "# Label axes and title\n",
    "plt.xlabel('Sepal Length (cm)')\n",
    "plt.ylabel('Sepal Width (cm)')\n",
    "plt.title('K-means Clustering of Sepal Dimensions')"
   ]
  },
  {
   "cell_type": "code",
   "execution_count": 16,
   "metadata": {},
   "outputs": [
    {
     "data": {
      "text/html": [
       "<div>\n",
       "<style scoped>\n",
       "    .dataframe tbody tr th:only-of-type {\n",
       "        vertical-align: middle;\n",
       "    }\n",
       "\n",
       "    .dataframe tbody tr th {\n",
       "        vertical-align: top;\n",
       "    }\n",
       "\n",
       "    .dataframe thead th {\n",
       "        text-align: right;\n",
       "    }\n",
       "</style>\n",
       "<table border=\"1\" class=\"dataframe\">\n",
       "  <thead>\n",
       "    <tr style=\"text-align: right;\">\n",
       "      <th></th>\n",
       "      <th>sepal_length</th>\n",
       "      <th>sepal_width</th>\n",
       "      <th>petal_length</th>\n",
       "      <th>petal_width</th>\n",
       "      <th>species</th>\n",
       "      <th>cluster</th>\n",
       "    </tr>\n",
       "  </thead>\n",
       "  <tbody>\n",
       "    <tr>\n",
       "      <th>0</th>\n",
       "      <td>5.1</td>\n",
       "      <td>3.5</td>\n",
       "      <td>1.4</td>\n",
       "      <td>0.2</td>\n",
       "      <td>setosa</td>\n",
       "      <td>1</td>\n",
       "    </tr>\n",
       "    <tr>\n",
       "      <th>1</th>\n",
       "      <td>4.9</td>\n",
       "      <td>3.0</td>\n",
       "      <td>1.4</td>\n",
       "      <td>0.2</td>\n",
       "      <td>setosa</td>\n",
       "      <td>1</td>\n",
       "    </tr>\n",
       "    <tr>\n",
       "      <th>2</th>\n",
       "      <td>4.7</td>\n",
       "      <td>3.2</td>\n",
       "      <td>1.3</td>\n",
       "      <td>0.2</td>\n",
       "      <td>setosa</td>\n",
       "      <td>1</td>\n",
       "    </tr>\n",
       "    <tr>\n",
       "      <th>3</th>\n",
       "      <td>4.6</td>\n",
       "      <td>3.1</td>\n",
       "      <td>1.5</td>\n",
       "      <td>0.2</td>\n",
       "      <td>setosa</td>\n",
       "      <td>1</td>\n",
       "    </tr>\n",
       "    <tr>\n",
       "      <th>4</th>\n",
       "      <td>5.0</td>\n",
       "      <td>3.6</td>\n",
       "      <td>1.4</td>\n",
       "      <td>0.2</td>\n",
       "      <td>setosa</td>\n",
       "      <td>1</td>\n",
       "    </tr>\n",
       "  </tbody>\n",
       "</table>\n",
       "</div>"
      ],
      "text/plain": [
       "   sepal_length  sepal_width  petal_length  petal_width species  cluster\n",
       "0           5.1          3.5           1.4          0.2  setosa        1\n",
       "1           4.9          3.0           1.4          0.2  setosa        1\n",
       "2           4.7          3.2           1.3          0.2  setosa        1\n",
       "3           4.6          3.1           1.5          0.2  setosa        1\n",
       "4           5.0          3.6           1.4          0.2  setosa        1"
      ]
     },
     "execution_count": 16,
     "metadata": {},
     "output_type": "execute_result"
    }
   ],
   "source": [
    "# Adding label as a new column\n",
    "\n",
    "df['cluster'] = kmeans.labels_\n",
    "df.head()"
   ]
  },
  {
   "cell_type": "code",
   "execution_count": 18,
   "metadata": {
    "executionInfo": {
     "elapsed": 3,
     "status": "ok",
     "timestamp": 1707326725491,
     "user": {
      "displayName": "Jaivardhan Singh Chauhan",
      "userId": "12360705570932212157"
     },
     "user_tz": 480
    },
    "id": "RgaeN_1uP-S6"
   },
   "outputs": [
    {
     "data": {
      "text/html": [
       "<div>\n",
       "<style scoped>\n",
       "    .dataframe tbody tr th:only-of-type {\n",
       "        vertical-align: middle;\n",
       "    }\n",
       "\n",
       "    .dataframe tbody tr th {\n",
       "        vertical-align: top;\n",
       "    }\n",
       "\n",
       "    .dataframe thead th {\n",
       "        text-align: right;\n",
       "    }\n",
       "</style>\n",
       "<table border=\"1\" class=\"dataframe\">\n",
       "  <thead>\n",
       "    <tr style=\"text-align: right;\">\n",
       "      <th>cluster</th>\n",
       "      <th>0</th>\n",
       "      <th>1</th>\n",
       "      <th>2</th>\n",
       "    </tr>\n",
       "    <tr>\n",
       "      <th>species</th>\n",
       "      <th></th>\n",
       "      <th></th>\n",
       "      <th></th>\n",
       "    </tr>\n",
       "  </thead>\n",
       "  <tbody>\n",
       "    <tr>\n",
       "      <th>setosa</th>\n",
       "      <td>0</td>\n",
       "      <td>50</td>\n",
       "      <td>0</td>\n",
       "    </tr>\n",
       "    <tr>\n",
       "      <th>versicolor</th>\n",
       "      <td>12</td>\n",
       "      <td>0</td>\n",
       "      <td>38</td>\n",
       "    </tr>\n",
       "    <tr>\n",
       "      <th>virginica</th>\n",
       "      <td>35</td>\n",
       "      <td>0</td>\n",
       "      <td>15</td>\n",
       "    </tr>\n",
       "  </tbody>\n",
       "</table>\n",
       "</div>"
      ],
      "text/plain": [
       "cluster      0   1   2\n",
       "species               \n",
       "setosa       0  50   0\n",
       "versicolor  12   0  38\n",
       "virginica   35   0  15"
      ]
     },
     "execution_count": 18,
     "metadata": {},
     "output_type": "execute_result"
    }
   ],
   "source": [
    "# Create a cross-tabulation (contingency table) to compare species and cluster labels\n",
    "comparison_table = pd.crosstab(df['species'], df['cluster'])\n",
    "\n",
    "# Display the comparison table\n",
    "comparison_table"
   ]
  },
  {
   "cell_type": "markdown",
   "metadata": {},
   "source": [
    "The setosa species is perfectly clustered, indicating that it is easily separable from the other species based on the provided features. The versicolor and virginica species are not as clearly separable. It is reflected in clusters 0 and 2, where there is a mix of these two species. Results suggests that these two species have overlapping feature spaces."
   ]
  },
  {
   "cell_type": "markdown",
   "metadata": {},
   "source": [
    "Based on the visual representation of the K-means clustering:\n",
    "\n",
    "1. Red Cluster (Cluster 1): This cluster appears to be well-defined and compact. Most of the points in this cluster have smaller sepal lengths and a relatively higher sepal width.\n",
    "\n",
    "2. Green Cluster (Cluster 0): This cluster is somewhat spread out and overlaps with the blue cluster. Points in this cluster generally have intermediate sepal lengths and lower sepal widths.\n",
    "\n",
    "3. Blue Cluster (Cluster 2): This cluster also appears compact and well-defined. Points in this cluster generally have larger sepal lengths and a range of sepal widths.\n",
    "\n",
    "Centroids: The black points represent the centroids of the clusters. They are centrally located within each cluster, indicating the average position of the points within each cluster.\n",
    "\n",
    "Also, there is noticeable overlap between the green and blue clusters. This overlap suggests that the features sepal_length and sepal_width alone might not be sufficient to completely separate the versicolor and virginica species. These two species likely have similar sepal dimensions, causing some mixing in the clustering process.\n",
    "Interestingly, the red cluster corresponds to the setosa species, which is easily separable from the other two species based on sepal dimensions alone. Indeed there is a clear distinction of the red cluster from the other clusters."
   ]
  }
 ],
 "metadata": {
  "colab": {
   "provenance": [
    {
     "file_id": "1ntvFTymgV_6oUz8iZdMyNPAM7swmxWJP",
     "timestamp": 1707241427587
    }
   ]
  },
  "kernelspec": {
   "display_name": "Python 3 (ipykernel)",
   "language": "python",
   "name": "python3"
  },
  "language_info": {
   "codemirror_mode": {
    "name": "ipython",
    "version": 3
   },
   "file_extension": ".py",
   "mimetype": "text/x-python",
   "name": "python",
   "nbconvert_exporter": "python",
   "pygments_lexer": "ipython3",
   "version": "3.9.19"
  }
 },
 "nbformat": 4,
 "nbformat_minor": 1
}
