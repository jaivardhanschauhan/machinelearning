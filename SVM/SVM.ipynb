{
 "cells": [
  {
   "cell_type": "code",
   "execution_count": 1,
   "metadata": {
    "executionInfo": {
     "elapsed": 3,
     "status": "ok",
     "timestamp": 1708477486926,
     "user": {
      "displayName": "Jaivardhan Singh Chauhan",
      "userId": "12360705570932212157"
     },
     "user_tz": 480
    },
    "id": "yRK99WNIQT0n"
   },
   "outputs": [],
   "source": [
    "import pandas as pd\n",
    "from sklearn.svm import SVC\n",
    "from sklearn.linear_model import LogisticRegression\n",
    "from sklearn.model_selection import train_test_split\n",
    "from sklearn.metrics import accuracy_score, confusion_matrix"
   ]
  },
  {
   "cell_type": "markdown",
   "metadata": {},
   "source": [
    "Our objective involves predicting skin type using the available attributes. We will compare the performance of Logistic Regression with Support Vector Machine."
   ]
  },
  {
   "cell_type": "code",
   "execution_count": 4,
   "metadata": {
    "colab": {
     "base_uri": "https://localhost:8080/",
     "height": 424
    },
    "executionInfo": {
     "elapsed": 297,
     "status": "ok",
     "timestamp": 1708477488076,
     "user": {
      "displayName": "Jaivardhan Singh Chauhan",
      "userId": "12360705570932212157"
     },
     "user_tz": 480
    },
    "id": "NsPdIRP8WFti",
    "outputId": "cb8f7a33-9d1c-4e6e-bfda-c97d0ad4aa09"
   },
   "outputs": [
    {
     "name": "stdout",
     "output_type": "stream",
     "text": [
      "(24623, 4)\n",
      "[1 2]\n"
     ]
    },
    {
     "data": {
      "text/html": [
       "<div>\n",
       "<style scoped>\n",
       "    .dataframe tbody tr th:only-of-type {\n",
       "        vertical-align: middle;\n",
       "    }\n",
       "\n",
       "    .dataframe tbody tr th {\n",
       "        vertical-align: top;\n",
       "    }\n",
       "\n",
       "    .dataframe thead th {\n",
       "        text-align: right;\n",
       "    }\n",
       "</style>\n",
       "<table border=\"1\" class=\"dataframe\">\n",
       "  <thead>\n",
       "    <tr style=\"text-align: right;\">\n",
       "      <th></th>\n",
       "      <th>b</th>\n",
       "      <th>g</th>\n",
       "      <th>r</th>\n",
       "      <th>skin</th>\n",
       "    </tr>\n",
       "  </thead>\n",
       "  <tbody>\n",
       "    <tr>\n",
       "      <th>0</th>\n",
       "      <td>77</td>\n",
       "      <td>88</td>\n",
       "      <td>126</td>\n",
       "      <td>1</td>\n",
       "    </tr>\n",
       "    <tr>\n",
       "      <th>1</th>\n",
       "      <td>80</td>\n",
       "      <td>88</td>\n",
       "      <td>128</td>\n",
       "      <td>1</td>\n",
       "    </tr>\n",
       "    <tr>\n",
       "      <th>2</th>\n",
       "      <td>78</td>\n",
       "      <td>86</td>\n",
       "      <td>126</td>\n",
       "      <td>1</td>\n",
       "    </tr>\n",
       "    <tr>\n",
       "      <th>3</th>\n",
       "      <td>82</td>\n",
       "      <td>90</td>\n",
       "      <td>130</td>\n",
       "      <td>1</td>\n",
       "    </tr>\n",
       "    <tr>\n",
       "      <th>4</th>\n",
       "      <td>79</td>\n",
       "      <td>87</td>\n",
       "      <td>127</td>\n",
       "      <td>1</td>\n",
       "    </tr>\n",
       "  </tbody>\n",
       "</table>\n",
       "</div>"
      ],
      "text/plain": [
       "    b   g    r  skin\n",
       "0  77  88  126     1\n",
       "1  80  88  128     1\n",
       "2  78  86  126     1\n",
       "3  82  90  130     1\n",
       "4  79  87  127     1"
      ]
     },
     "execution_count": 4,
     "metadata": {},
     "output_type": "execute_result"
    }
   ],
   "source": [
    "df = pd.read_csv('Skin_NonSkin_small.txt', names=['b','g','r','skin'], delimiter='\\t')\n",
    "print(df.shape)\n",
    "print(df.skin.unique())\n",
    "df.head()"
   ]
  },
  {
   "cell_type": "code",
   "execution_count": 5,
   "metadata": {
    "executionInfo": {
     "elapsed": 172,
     "status": "ok",
     "timestamp": 1708477493595,
     "user": {
      "displayName": "Jaivardhan Singh Chauhan",
      "userId": "12360705570932212157"
     },
     "user_tz": 480
    },
    "id": "McDIPWOTWYRL"
   },
   "outputs": [],
   "source": [
    "X = df.drop(columns='skin')\n",
    "y = df['skin']\n",
    "X_train, X_test, y_train, y_test = train_test_split(X, y, test_size=0.3)"
   ]
  },
  {
   "cell_type": "code",
   "execution_count": 6,
   "metadata": {
    "colab": {
     "base_uri": "https://localhost:8080/"
    },
    "executionInfo": {
     "elapsed": 165,
     "status": "ok",
     "timestamp": 1708477494960,
     "user": {
      "displayName": "Jaivardhan Singh Chauhan",
      "userId": "12360705570932212157"
     },
     "user_tz": 480
    },
    "id": "C8kYy28dWZ3Z",
    "outputId": "9e2c2988-665b-4683-9fd4-d3795e64642b"
   },
   "outputs": [
    {
     "name": "stdout",
     "output_type": "stream",
     "text": [
      "0.9210775687017734\n",
      "[[1236  266]\n",
      " [ 317 5568]]\n"
     ]
    }
   ],
   "source": [
    "log_model = LogisticRegression()\n",
    "log_model.fit(X_train, y_train)\n",
    "log_preds = log_model.predict(X_test)\n",
    "print(accuracy_score(y_test, log_preds))\n",
    "print(confusion_matrix(y_test, log_preds))"
   ]
  },
  {
   "cell_type": "code",
   "execution_count": 7,
   "metadata": {
    "colab": {
     "base_uri": "https://localhost:8080/"
    },
    "executionInfo": {
     "elapsed": 855,
     "status": "ok",
     "timestamp": 1708477497433,
     "user": {
      "displayName": "Jaivardhan Singh Chauhan",
      "userId": "12360705570932212157"
     },
     "user_tz": 480
    },
    "id": "u5I59e6BW96E",
    "outputId": "f734327a-4932-4947-b406-87ad0df0ed19"
   },
   "outputs": [
    {
     "name": "stdout",
     "output_type": "stream",
     "text": [
      "0.9928252335183431\n",
      "[[1502    0]\n",
      " [  53 5832]]\n"
     ]
    }
   ],
   "source": [
    "svm_model = SVC()\n",
    "svm_model.fit(X_train, y_train)\n",
    "svm_preds = svm_model.predict(X_test)\n",
    "print(accuracy_score(y_test, svm_preds))\n",
    "print(confusion_matrix(y_test, svm_preds))"
   ]
  },
  {
   "cell_type": "markdown",
   "metadata": {
    "id": "ffnowQTuXJMy"
   },
   "source": [
    "Both are high accuracy scores, but SVM outperforms Logistic Regression in terms of accuracy."
   ]
  }
 ],
 "metadata": {
  "colab": {
   "provenance": [
    {
     "file_id": "1ejaI7bt8o41C35JZFDnYytriWvEcsIS1",
     "timestamp": 1708477000023
    }
   ]
  },
  "kernelspec": {
   "display_name": "Python 3 (ipykernel)",
   "language": "python",
   "name": "python3"
  },
  "language_info": {
   "codemirror_mode": {
    "name": "ipython",
    "version": 3
   },
   "file_extension": ".py",
   "mimetype": "text/x-python",
   "name": "python",
   "nbconvert_exporter": "python",
   "pygments_lexer": "ipython3",
   "version": "3.9.19"
  }
 },
 "nbformat": 4,
 "nbformat_minor": 1
}
